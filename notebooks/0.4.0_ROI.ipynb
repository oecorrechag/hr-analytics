{
 "cells": [
  {
   "cell_type": "markdown",
   "metadata": {},
   "source": [
    "# 0.4.0 Model Validation, HR Interventions, and ROI"
   ]
  },
  {
   "cell_type": "code",
   "execution_count": 1,
   "metadata": {},
   "outputs": [],
   "source": [
    "%load_ext autoreload\n",
    "%autoreload 2"
   ]
  },
  {
   "cell_type": "code",
   "execution_count": 71,
   "metadata": {},
   "outputs": [],
   "source": [
    "import pandas as pd\n",
    "import numpy as np\n",
    "\n",
    "import matplotlib.pyplot as plt\n",
    "import plotly.express as px\n",
    "\n",
    "from sklearn.model_selection import train_test_split\n",
    "\n",
    "import statsmodels.api as sm\n",
    "\n",
    "from sklearn.metrics import confusion_matrix, accuracy_score\n",
    "\n",
    "pd.set_option('display.max_columns', None)\n",
    "pd.set_option('display.max_rows', None)\n",
    "import warnings\n",
    "warnings.filterwarnings(\"ignore\")"
   ]
  },
  {
   "cell_type": "code",
   "execution_count": 3,
   "metadata": {},
   "outputs": [],
   "source": [
    "import sys\n",
    "sys.path.append(\"../\") \n",
    "\n",
    "import utils.paths as path\n",
    "from utils.paths2 import direcciones"
   ]
  },
  {
   "cell_type": "code",
   "execution_count": 75,
   "metadata": {},
   "outputs": [],
   "source": [
    "emp_final = pd.read_csv(path.data_raw_dir(\"emp_final.csv\"), sep=',')\n",
    "emp_final['date_of_joining'] = pd.to_datetime(emp_final['date_of_joining'])\n",
    "emp_final['cutoff_date'] = pd.to_datetime(emp_final['cutoff_date'])\n",
    "emp_final['last_working_date'] = pd.to_datetime(emp_final['last_working_date'])"
   ]
  },
  {
   "cell_type": "code",
   "execution_count": 76,
   "metadata": {},
   "outputs": [],
   "source": [
    "emp_final_original = emp_final.copy()"
   ]
  },
  {
   "cell_type": "code",
   "execution_count": 77,
   "metadata": {},
   "outputs": [],
   "source": [
    "# transformations\n",
    "emp_final['status'] = np.where(emp_final['status'] == 'Active', 0, 1)\n",
    "\n",
    "# List of variables to map\n",
    "varlist =  ['promotion_last_2_years',]\n",
    "\n",
    "# Defining the map function\n",
    "def binary_map(x):\n",
    "    return x.map({'Yes': 1, 'No': 0})\n",
    "\n",
    "# Applying the function to the housing list\n",
    "emp_final[varlist] = emp_final[varlist].apply(binary_map)"
   ]
  },
  {
   "cell_type": "code",
   "execution_count": 78,
   "metadata": {},
   "outputs": [],
   "source": [
    "# Creating a dummy variable for some of the categorical variables and dropping the first one.\n",
    "dummy1 = pd.get_dummies(emp_final[['location','level','gender','rating','mgr_rating','hiring_source','marital_status','education','compa_level']], drop_first=True)\n",
    "# Adding the results to the master dataframe\n",
    "emp_final = pd.concat([emp_final, dummy1], axis=1)"
   ]
  },
  {
   "cell_type": "code",
   "execution_count": 79,
   "metadata": {},
   "outputs": [
    {
     "data": {
      "text/html": [
       "<div>\n",
       "<style scoped>\n",
       "    .dataframe tbody tr th:only-of-type {\n",
       "        vertical-align: middle;\n",
       "    }\n",
       "\n",
       "    .dataframe tbody tr th {\n",
       "        vertical-align: top;\n",
       "    }\n",
       "\n",
       "    .dataframe thead th {\n",
       "        text-align: right;\n",
       "    }\n",
       "</style>\n",
       "<table border=\"1\" class=\"dataframe\">\n",
       "  <thead>\n",
       "    <tr style=\"text-align: right;\">\n",
       "      <th></th>\n",
       "      <th>turnover</th>\n",
       "      <th>mgr_reportees</th>\n",
       "      <th>mgr_age</th>\n",
       "      <th>mgr_tenure</th>\n",
       "      <th>percent_hike</th>\n",
       "      <th>hiring_score</th>\n",
       "      <th>no_companies_worked</th>\n",
       "      <th>distance_from_home</th>\n",
       "      <th>total_dependents</th>\n",
       "      <th>promotion_last_2_years</th>\n",
       "      <th>no_leaves_taken</th>\n",
       "      <th>total_experience</th>\n",
       "      <th>monthly_overtime_hrs</th>\n",
       "      <th>mgr_effectiveness</th>\n",
       "      <th>career_satisfaction</th>\n",
       "      <th>perf_satisfaction</th>\n",
       "      <th>work_satisfaction</th>\n",
       "      <th>age_diff</th>\n",
       "      <th>job_hop_index</th>\n",
       "      <th>tenure</th>\n",
       "      <th>compa_ratio</th>\n",
       "      <th>location_New York</th>\n",
       "      <th>location_Orlando</th>\n",
       "      <th>gender_Male</th>\n",
       "      <th>rating_Acceptable</th>\n",
       "      <th>rating_Below Average</th>\n",
       "      <th>rating_Excellent</th>\n",
       "      <th>rating_Unacceptable</th>\n",
       "      <th>mgr_rating_Acceptable</th>\n",
       "      <th>mgr_rating_Below Average</th>\n",
       "      <th>mgr_rating_Excellent</th>\n",
       "      <th>mgr_rating_Unacceptable</th>\n",
       "      <th>hiring_source_Consultant</th>\n",
       "      <th>hiring_source_Employee Referral</th>\n",
       "      <th>hiring_source_Job Boards</th>\n",
       "      <th>hiring_source_Job Fairs</th>\n",
       "      <th>hiring_source_Social Media</th>\n",
       "      <th>hiring_source_Walk-In</th>\n",
       "      <th>marital_status_Single</th>\n",
       "      <th>education_Masters</th>\n",
       "      <th>compa_level_Below</th>\n",
       "    </tr>\n",
       "  </thead>\n",
       "  <tbody>\n",
       "    <tr>\n",
       "      <th>0</th>\n",
       "      <td>0</td>\n",
       "      <td>9</td>\n",
       "      <td>44.07</td>\n",
       "      <td>3.17</td>\n",
       "      <td>10</td>\n",
       "      <td>70</td>\n",
       "      <td>1</td>\n",
       "      <td>14</td>\n",
       "      <td>2</td>\n",
       "      <td>0</td>\n",
       "      <td>2</td>\n",
       "      <td>6.86</td>\n",
       "      <td>1</td>\n",
       "      <td>0.730</td>\n",
       "      <td>0.73</td>\n",
       "      <td>0.73</td>\n",
       "      <td>0.75</td>\n",
       "      <td>18.98</td>\n",
       "      <td>6.860000</td>\n",
       "      <td>3.821918</td>\n",
       "      <td>1.240741</td>\n",
       "      <td>1</td>\n",
       "      <td>0</td>\n",
       "      <td>0</td>\n",
       "      <td>0</td>\n",
       "      <td>0</td>\n",
       "      <td>0</td>\n",
       "      <td>0</td>\n",
       "      <td>1</td>\n",
       "      <td>0</td>\n",
       "      <td>0</td>\n",
       "      <td>0</td>\n",
       "      <td>1</td>\n",
       "      <td>0</td>\n",
       "      <td>0</td>\n",
       "      <td>0</td>\n",
       "      <td>0</td>\n",
       "      <td>0</td>\n",
       "      <td>1</td>\n",
       "      <td>0</td>\n",
       "      <td>0</td>\n",
       "    </tr>\n",
       "    <tr>\n",
       "      <th>1</th>\n",
       "      <td>0</td>\n",
       "      <td>4</td>\n",
       "      <td>35.99</td>\n",
       "      <td>7.92</td>\n",
       "      <td>8</td>\n",
       "      <td>70</td>\n",
       "      <td>9</td>\n",
       "      <td>21</td>\n",
       "      <td>2</td>\n",
       "      <td>0</td>\n",
       "      <td>10</td>\n",
       "      <td>4.88</td>\n",
       "      <td>5</td>\n",
       "      <td>0.581</td>\n",
       "      <td>0.72</td>\n",
       "      <td>0.84</td>\n",
       "      <td>0.85</td>\n",
       "      <td>10.01</td>\n",
       "      <td>0.542222</td>\n",
       "      <td>5.271233</td>\n",
       "      <td>0.929861</td>\n",
       "      <td>0</td>\n",
       "      <td>0</td>\n",
       "      <td>0</td>\n",
       "      <td>1</td>\n",
       "      <td>0</td>\n",
       "      <td>0</td>\n",
       "      <td>0</td>\n",
       "      <td>0</td>\n",
       "      <td>0</td>\n",
       "      <td>1</td>\n",
       "      <td>0</td>\n",
       "      <td>0</td>\n",
       "      <td>0</td>\n",
       "      <td>0</td>\n",
       "      <td>1</td>\n",
       "      <td>0</td>\n",
       "      <td>0</td>\n",
       "      <td>1</td>\n",
       "      <td>0</td>\n",
       "      <td>1</td>\n",
       "    </tr>\n",
       "    <tr>\n",
       "      <th>2</th>\n",
       "      <td>0</td>\n",
       "      <td>6</td>\n",
       "      <td>35.78</td>\n",
       "      <td>4.38</td>\n",
       "      <td>11</td>\n",
       "      <td>77</td>\n",
       "      <td>3</td>\n",
       "      <td>15</td>\n",
       "      <td>5</td>\n",
       "      <td>1</td>\n",
       "      <td>18</td>\n",
       "      <td>8.55</td>\n",
       "      <td>3</td>\n",
       "      <td>0.770</td>\n",
       "      <td>0.85</td>\n",
       "      <td>0.80</td>\n",
       "      <td>0.87</td>\n",
       "      <td>2.38</td>\n",
       "      <td>2.850000</td>\n",
       "      <td>9.161644</td>\n",
       "      <td>1.027738</td>\n",
       "      <td>0</td>\n",
       "      <td>1</td>\n",
       "      <td>0</td>\n",
       "      <td>1</td>\n",
       "      <td>0</td>\n",
       "      <td>0</td>\n",
       "      <td>0</td>\n",
       "      <td>0</td>\n",
       "      <td>0</td>\n",
       "      <td>0</td>\n",
       "      <td>0</td>\n",
       "      <td>1</td>\n",
       "      <td>0</td>\n",
       "      <td>0</td>\n",
       "      <td>0</td>\n",
       "      <td>0</td>\n",
       "      <td>0</td>\n",
       "      <td>1</td>\n",
       "      <td>0</td>\n",
       "      <td>0</td>\n",
       "    </tr>\n",
       "    <tr>\n",
       "      <th>3</th>\n",
       "      <td>0</td>\n",
       "      <td>10</td>\n",
       "      <td>26.70</td>\n",
       "      <td>2.87</td>\n",
       "      <td>8</td>\n",
       "      <td>71</td>\n",
       "      <td>5</td>\n",
       "      <td>9</td>\n",
       "      <td>3</td>\n",
       "      <td>1</td>\n",
       "      <td>19</td>\n",
       "      <td>4.76</td>\n",
       "      <td>8</td>\n",
       "      <td>0.240</td>\n",
       "      <td>0.42</td>\n",
       "      <td>0.33</td>\n",
       "      <td>0.85</td>\n",
       "      <td>2.15</td>\n",
       "      <td>0.952000</td>\n",
       "      <td>3.616438</td>\n",
       "      <td>0.593274</td>\n",
       "      <td>0</td>\n",
       "      <td>0</td>\n",
       "      <td>1</td>\n",
       "      <td>1</td>\n",
       "      <td>0</td>\n",
       "      <td>0</td>\n",
       "      <td>0</td>\n",
       "      <td>1</td>\n",
       "      <td>0</td>\n",
       "      <td>0</td>\n",
       "      <td>0</td>\n",
       "      <td>0</td>\n",
       "      <td>0</td>\n",
       "      <td>1</td>\n",
       "      <td>0</td>\n",
       "      <td>0</td>\n",
       "      <td>0</td>\n",
       "      <td>1</td>\n",
       "      <td>0</td>\n",
       "      <td>1</td>\n",
       "    </tr>\n",
       "    <tr>\n",
       "      <th>4</th>\n",
       "      <td>0</td>\n",
       "      <td>11</td>\n",
       "      <td>34.28</td>\n",
       "      <td>12.95</td>\n",
       "      <td>12</td>\n",
       "      <td>70</td>\n",
       "      <td>1</td>\n",
       "      <td>25</td>\n",
       "      <td>4</td>\n",
       "      <td>0</td>\n",
       "      <td>25</td>\n",
       "      <td>8.06</td>\n",
       "      <td>1</td>\n",
       "      <td>0.710</td>\n",
       "      <td>0.78</td>\n",
       "      <td>0.67</td>\n",
       "      <td>0.80</td>\n",
       "      <td>3.05</td>\n",
       "      <td>8.060000</td>\n",
       "      <td>3.027397</td>\n",
       "      <td>1.457870</td>\n",
       "      <td>0</td>\n",
       "      <td>1</td>\n",
       "      <td>1</td>\n",
       "      <td>1</td>\n",
       "      <td>0</td>\n",
       "      <td>0</td>\n",
       "      <td>0</td>\n",
       "      <td>1</td>\n",
       "      <td>0</td>\n",
       "      <td>0</td>\n",
       "      <td>0</td>\n",
       "      <td>0</td>\n",
       "      <td>0</td>\n",
       "      <td>0</td>\n",
       "      <td>1</td>\n",
       "      <td>0</td>\n",
       "      <td>0</td>\n",
       "      <td>1</td>\n",
       "      <td>0</td>\n",
       "      <td>0</td>\n",
       "    </tr>\n",
       "  </tbody>\n",
       "</table>\n",
       "</div>"
      ],
      "text/plain": [
       "   turnover  mgr_reportees  mgr_age  mgr_tenure  percent_hike  hiring_score  \\\n",
       "0         0              9    44.07        3.17            10            70   \n",
       "1         0              4    35.99        7.92             8            70   \n",
       "2         0              6    35.78        4.38            11            77   \n",
       "3         0             10    26.70        2.87             8            71   \n",
       "4         0             11    34.28       12.95            12            70   \n",
       "\n",
       "   no_companies_worked  distance_from_home  total_dependents  \\\n",
       "0                    1                  14                 2   \n",
       "1                    9                  21                 2   \n",
       "2                    3                  15                 5   \n",
       "3                    5                   9                 3   \n",
       "4                    1                  25                 4   \n",
       "\n",
       "   promotion_last_2_years  no_leaves_taken  total_experience  \\\n",
       "0                       0                2              6.86   \n",
       "1                       0               10              4.88   \n",
       "2                       1               18              8.55   \n",
       "3                       1               19              4.76   \n",
       "4                       0               25              8.06   \n",
       "\n",
       "   monthly_overtime_hrs  mgr_effectiveness  career_satisfaction  \\\n",
       "0                     1              0.730                 0.73   \n",
       "1                     5              0.581                 0.72   \n",
       "2                     3              0.770                 0.85   \n",
       "3                     8              0.240                 0.42   \n",
       "4                     1              0.710                 0.78   \n",
       "\n",
       "   perf_satisfaction  work_satisfaction  age_diff  job_hop_index    tenure  \\\n",
       "0               0.73               0.75     18.98       6.860000  3.821918   \n",
       "1               0.84               0.85     10.01       0.542222  5.271233   \n",
       "2               0.80               0.87      2.38       2.850000  9.161644   \n",
       "3               0.33               0.85      2.15       0.952000  3.616438   \n",
       "4               0.67               0.80      3.05       8.060000  3.027397   \n",
       "\n",
       "   compa_ratio  location_New York  location_Orlando  gender_Male  \\\n",
       "0     1.240741                  1                 0            0   \n",
       "1     0.929861                  0                 0            0   \n",
       "2     1.027738                  0                 1            0   \n",
       "3     0.593274                  0                 0            1   \n",
       "4     1.457870                  0                 1            1   \n",
       "\n",
       "   rating_Acceptable  rating_Below Average  rating_Excellent  \\\n",
       "0                  0                     0                 0   \n",
       "1                  1                     0                 0   \n",
       "2                  1                     0                 0   \n",
       "3                  1                     0                 0   \n",
       "4                  1                     0                 0   \n",
       "\n",
       "   rating_Unacceptable  mgr_rating_Acceptable  mgr_rating_Below Average  \\\n",
       "0                    0                      1                         0   \n",
       "1                    0                      0                         0   \n",
       "2                    0                      0                         0   \n",
       "3                    0                      1                         0   \n",
       "4                    0                      1                         0   \n",
       "\n",
       "   mgr_rating_Excellent  mgr_rating_Unacceptable  hiring_source_Consultant  \\\n",
       "0                     0                        0                         1   \n",
       "1                     1                        0                         0   \n",
       "2                     0                        0                         1   \n",
       "3                     0                        0                         0   \n",
       "4                     0                        0                         0   \n",
       "\n",
       "   hiring_source_Employee Referral  hiring_source_Job Boards  \\\n",
       "0                                0                         0   \n",
       "1                                0                         0   \n",
       "2                                0                         0   \n",
       "3                                0                         1   \n",
       "4                                0                         0   \n",
       "\n",
       "   hiring_source_Job Fairs  hiring_source_Social Media  hiring_source_Walk-In  \\\n",
       "0                        0                           0                      0   \n",
       "1                        1                           0                      0   \n",
       "2                        0                           0                      0   \n",
       "3                        0                           0                      0   \n",
       "4                        1                           0                      0   \n",
       "\n",
       "   marital_status_Single  education_Masters  compa_level_Below  \n",
       "0                      1                  0                  0  \n",
       "1                      1                  0                  1  \n",
       "2                      1                  0                  0  \n",
       "3                      1                  0                  1  \n",
       "4                      1                  0                  0  "
      ]
     },
     "execution_count": 79,
     "metadata": {},
     "output_type": "execute_result"
    }
   ],
   "source": [
    "emp_final = emp_final.loc[:,['turnover', \n",
    "       'mgr_reportees', 'mgr_age', 'mgr_tenure',\n",
    "       'percent_hike', 'hiring_score', 'no_companies_worked',\n",
    "       'distance_from_home', 'total_dependents', \n",
    "       'promotion_last_2_years', 'no_leaves_taken', 'total_experience',\n",
    "       'monthly_overtime_hrs',\n",
    "       'mgr_effectiveness',\n",
    "       'career_satisfaction', 'perf_satisfaction', 'work_satisfaction',\n",
    "       'age_diff', 'job_hop_index', 'tenure', \n",
    "       'compa_ratio', 'location_New York', 'location_Orlando',\n",
    "       'gender_Male', 'rating_Acceptable',\n",
    "       'rating_Below Average', 'rating_Excellent', 'rating_Unacceptable',\n",
    "       'mgr_rating_Acceptable', 'mgr_rating_Below Average',\n",
    "       'mgr_rating_Excellent', 'mgr_rating_Unacceptable',\n",
    "       'hiring_source_Consultant', 'hiring_source_Employee Referral',\n",
    "       'hiring_source_Job Boards', 'hiring_source_Job Fairs',\n",
    "       'hiring_source_Social Media', 'hiring_source_Walk-In',\n",
    "       'marital_status_Single', 'education_Masters', 'compa_level_Below']]\n",
    "emp_final.head()"
   ]
  },
  {
   "cell_type": "code",
   "execution_count": 80,
   "metadata": {},
   "outputs": [],
   "source": [
    "# Putting feature variable to X\n",
    "X = emp_final.drop(['turnover'], axis=1) \n",
    "# Putting response variable to y\n",
    "y = emp_final['turnover']"
   ]
  },
  {
   "cell_type": "code",
   "execution_count": 81,
   "metadata": {},
   "outputs": [],
   "source": [
    "# Splitting the data into train and test\n",
    "X_train, X_test, y_train, y_test = train_test_split(X, y, train_size=0.7, test_size=0.3, random_state=420)"
   ]
  },
  {
   "cell_type": "code",
   "execution_count": 82,
   "metadata": {},
   "outputs": [],
   "source": [
    "X_train_sm = sm.add_constant(X_train)\n",
    "X_test_sm = sm.add_constant(X_test)"
   ]
  },
  {
   "cell_type": "code",
   "execution_count": 83,
   "metadata": {},
   "outputs": [],
   "source": [
    "logm2 = sm.GLM(y_train, X_train_sm, family = sm.families.Binomial())\n",
    "res = logm2.fit()"
   ]
  },
  {
   "cell_type": "code",
   "execution_count": 84,
   "metadata": {},
   "outputs": [],
   "source": [
    "y_train = pd.DataFrame(y_train)\n",
    "y_test = pd.DataFrame(y_test)\n",
    "\n",
    "y_train['y_train_pred'] = res.predict(X_train_sm)\n",
    "y_test['y_test_pred'] = res.predict(X_test_sm)\n",
    "\n",
    "y_train['predicted'] = y_train['y_train_pred'].map(lambda x: 1 if x > 0.5 else 0)\n",
    "y_test['predicted'] = y_test['y_test_pred'].map(lambda x: 1 if x > 0.5 else 0)\n",
    "\n",
    "# y_train['predicted'] = y_train['predicted'].astype(str)\n",
    "# y_test['predicted'] = y_test['predicted'].astype(str)"
   ]
  },
  {
   "cell_type": "markdown",
   "metadata": {},
   "source": [
    "## 0.4.2 Create a confusion matrix"
   ]
  },
  {
   "cell_type": "code",
   "execution_count": 85,
   "metadata": {},
   "outputs": [],
   "source": [
    "from sklearn.metrics import confusion_matrix"
   ]
  },
  {
   "cell_type": "code",
   "execution_count": 86,
   "metadata": {},
   "outputs": [
    {
     "data": {
      "text/plain": [
       "array([[454,  14],\n",
       "       [ 25,  94]], dtype=int64)"
      ]
     },
     "execution_count": 86,
     "metadata": {},
     "output_type": "execute_result"
    }
   ],
   "source": [
    "confusion = confusion_matrix(y_test['turnover'], y_test['predicted'])\n",
    "confusion"
   ]
  },
  {
   "cell_type": "markdown",
   "metadata": {},
   "source": [
    "## 0.4.3 Accuracy of your model"
   ]
  },
  {
   "cell_type": "code",
   "execution_count": 87,
   "metadata": {},
   "outputs": [
    {
     "data": {
      "text/plain": [
       "0.9335604770017035"
      ]
     },
     "execution_count": 87,
     "metadata": {},
     "output_type": "execute_result"
    }
   ],
   "source": [
    "accuracy_score(y_test['turnover'], y_test['predicted'])"
   ]
  },
  {
   "cell_type": "markdown",
   "metadata": {},
   "source": [
    "## 0.4.5 Calculate turnover risk probability"
   ]
  },
  {
   "cell_type": "code",
   "execution_count": 90,
   "metadata": {},
   "outputs": [],
   "source": [
    "# Putting feature variable to X\n",
    "X = emp_final.drop(['turnover'], axis=1) \n",
    "X_sm = sm.add_constant(X)"
   ]
  },
  {
   "cell_type": "code",
   "execution_count": 98,
   "metadata": {},
   "outputs": [],
   "source": [
    "emp_final_original['x_probability'] = res.predict(X_sm)\n",
    "emp_final_original['predicted'] = emp_final_original['x_probability'].map(lambda x: 1 if x > 0.5 else 0)"
   ]
  },
  {
   "cell_type": "code",
   "execution_count": 102,
   "metadata": {},
   "outputs": [],
   "source": [
    "emp_risk = emp_final_original[emp_final_original['status'] == 'Active'].sort_values(by=['x_probability'], ascending=False)"
   ]
  },
  {
   "cell_type": "code",
   "execution_count": 104,
   "metadata": {},
   "outputs": [
    {
     "data": {
      "text/html": [
       "<div>\n",
       "<style scoped>\n",
       "    .dataframe tbody tr th:only-of-type {\n",
       "        vertical-align: middle;\n",
       "    }\n",
       "\n",
       "    .dataframe tbody tr th {\n",
       "        vertical-align: top;\n",
       "    }\n",
       "\n",
       "    .dataframe thead th {\n",
       "        text-align: right;\n",
       "    }\n",
       "</style>\n",
       "<table border=\"1\" class=\"dataframe\">\n",
       "  <thead>\n",
       "    <tr style=\"text-align: right;\">\n",
       "      <th></th>\n",
       "      <th>emp_id</th>\n",
       "      <th>x_probability</th>\n",
       "    </tr>\n",
       "  </thead>\n",
       "  <tbody>\n",
       "    <tr>\n",
       "      <th>541</th>\n",
       "      <td>E13342</td>\n",
       "      <td>0.920498</td>\n",
       "    </tr>\n",
       "    <tr>\n",
       "      <th>1331</th>\n",
       "      <td>E6037</td>\n",
       "      <td>0.918248</td>\n",
       "    </tr>\n",
       "  </tbody>\n",
       "</table>\n",
       "</div>"
      ],
      "text/plain": [
       "      emp_id  x_probability\n",
       "541   E13342       0.920498\n",
       "1331   E6037       0.918248"
      ]
     },
     "execution_count": 104,
     "metadata": {},
     "output_type": "execute_result"
    }
   ],
   "source": [
    "emp_risk[['emp_id','x_probability']].head(2)"
   ]
  },
  {
   "cell_type": "markdown",
   "metadata": {},
   "source": [
    "## 0.4.6 Creating turnover risk buckets"
   ]
  },
  {
   "cell_type": "code",
   "execution_count": 112,
   "metadata": {},
   "outputs": [],
   "source": [
    "emp_risk_bucket = emp_risk.copy()\n",
    "\n",
    "conditions = [(emp_risk_bucket['x_probability'] <= 0.5),\n",
    "              ((emp_risk_bucket['x_probability'] > 0.5) & (emp_risk_bucket['x_probability'] <= 0.6)),\n",
    "              ((emp_risk_bucket['x_probability'] > 0.6) & (emp_risk_bucket['x_probability'] <= 0.8)),\n",
    "              (emp_risk_bucket['x_probability'] > 0.8)\n",
    "             ]\n",
    "values = ['no-risk','low-risk','medium-risk','high-risk']\n",
    "emp_risk_bucket['risk_bucket'] = np.select(conditions, values)"
   ]
  },
  {
   "cell_type": "code",
   "execution_count": 113,
   "metadata": {},
   "outputs": [
    {
     "data": {
      "text/plain": [
       "no-risk        1523\n",
       "medium-risk      13\n",
       "high-risk        11\n",
       "low-risk         10\n",
       "Name: risk_bucket, dtype: int64"
      ]
     },
     "execution_count": 113,
     "metadata": {},
     "output_type": "execute_result"
    }
   ],
   "source": [
    "emp_risk_bucket['risk_bucket'].value_counts()"
   ]
  },
  {
   "cell_type": "markdown",
   "metadata": {},
   "source": [
    "## 0.4.7 What would you do?\n",
    "\n",
    "As per your model, one of the employees has been identified as a high risk of turnover. As a proactive HR professional, you reviewed this employee's past performance and identified them as a high-performer and a high-potential employee.\n",
    "\n",
    "What action(s) would you take to retain this employee?\n",
    "\n",
    "R:/ Engage in a conversation with this employee to generally understand the perspective about work and future plans, Ask the employee's manager to have a conversation and explore the engagement levels and concerns, if any.\n",
    "\n",
    "\n",
    "## 0.4.8 Create salary hike range"
   ]
  },
  {
   "cell_type": "code",
   "execution_count": 114,
   "metadata": {},
   "outputs": [
    {
     "data": {
      "application/vnd.plotly.v1+json": {
       "config": {
        "plotlyServerURL": "https://plot.ly"
       },
       "data": [
        {
         "alignmentgroup": "True",
         "bingroup": "x",
         "hovertemplate": "percent_hike=%{x}<br>count=%{y}<extra></extra>",
         "legendgroup": "",
         "marker": {
          "color": "#636efa",
          "pattern": {
           "shape": ""
          }
         },
         "name": "",
         "offsetgroup": "",
         "orientation": "v",
         "showlegend": false,
         "type": "histogram",
         "x": [
          10,
          8,
          11,
          8,
          12,
          8,
          12,
          9,
          9,
          6,
          11,
          7,
          9,
          12,
          14,
          16,
          9,
          8,
          5,
          17,
          11,
          7,
          7,
          13,
          9,
          6,
          12,
          15,
          13,
          14,
          14,
          15,
          7,
          8,
          8,
          6,
          7,
          15,
          15,
          13,
          7,
          15,
          8,
          17,
          15,
          2,
          10,
          12,
          8,
          19,
          11,
          11,
          7,
          10,
          9,
          9,
          6,
          11,
          14,
          14,
          13,
          9,
          12,
          14,
          9,
          13,
          15,
          13,
          8,
          12,
          15,
          14,
          17,
          6,
          3,
          13,
          10,
          11,
          8,
          12,
          4,
          10,
          9,
          12,
          18,
          8,
          7,
          11,
          9,
          7,
          12,
          11,
          10,
          7,
          5,
          11,
          14,
          8,
          10,
          7,
          11,
          6,
          10,
          10,
          9,
          17,
          3,
          14,
          11,
          14,
          15,
          14,
          13,
          14,
          8,
          7,
          8,
          0,
          10,
          14,
          10,
          7,
          9,
          3,
          12,
          7,
          7,
          15,
          9,
          4,
          8,
          7,
          9,
          8,
          11,
          7,
          13,
          3,
          11,
          13,
          12,
          13,
          7,
          4,
          9,
          10,
          8,
          6,
          10,
          8,
          9,
          12,
          12,
          12,
          8,
          9,
          6,
          9,
          7,
          12,
          7,
          10,
          6,
          5,
          10,
          15,
          9,
          11,
          7,
          11,
          9,
          13,
          12,
          10,
          9,
          6,
          8,
          6,
          13,
          10,
          10,
          11,
          19,
          14,
          12,
          4,
          14,
          13,
          13,
          3,
          10,
          15,
          7,
          12,
          8,
          12,
          14,
          8,
          7,
          7,
          7,
          4,
          11,
          15,
          9,
          11,
          9,
          8,
          5,
          9,
          13,
          8,
          8,
          10,
          12,
          8,
          13,
          15,
          11,
          13,
          5,
          16,
          19,
          8,
          14,
          7,
          14,
          0,
          5,
          11,
          14,
          14,
          8,
          11,
          19,
          14,
          6,
          14,
          10,
          13,
          13,
          7,
          9,
          10,
          11,
          6,
          7,
          9,
          7,
          6,
          9,
          12,
          8,
          12,
          8,
          10,
          8,
          10,
          9,
          9,
          3,
          11,
          10,
          15,
          11,
          7,
          11,
          10,
          7,
          14,
          11,
          11,
          14,
          7,
          9,
          11,
          8,
          7,
          10,
          12,
          11,
          11,
          9,
          10,
          12,
          10,
          14,
          15,
          14,
          13,
          15,
          7,
          15,
          11,
          9,
          15,
          12,
          12,
          6,
          14,
          7,
          9,
          9,
          10,
          7,
          15,
          10,
          7,
          15,
          10,
          3,
          17,
          15,
          10,
          13,
          10,
          6,
          17,
          14,
          11,
          13,
          12,
          13,
          11,
          8,
          13,
          14,
          14,
          15,
          9,
          11,
          9,
          13,
          13,
          4,
          14,
          9,
          14,
          17,
          11,
          14,
          7,
          9,
          14,
          9,
          9,
          9,
          12,
          12,
          11,
          10,
          8,
          15,
          8,
          9,
          8,
          11,
          8,
          9,
          13,
          14,
          9,
          12,
          9,
          10,
          4,
          9,
          7,
          14,
          8,
          12,
          11,
          14,
          6,
          12,
          7,
          8,
          9,
          11,
          12,
          12,
          11,
          7,
          10,
          12,
          9,
          12,
          7,
          13,
          13,
          3,
          8,
          10,
          6,
          15,
          14,
          11,
          10,
          7,
          6,
          4,
          9,
          8,
          10,
          13,
          13,
          15,
          15,
          8,
          11,
          15,
          10,
          14,
          9,
          9,
          12,
          10,
          9,
          6,
          9,
          9,
          11,
          7,
          7,
          12,
          18,
          11,
          9,
          9,
          4,
          7,
          6,
          5,
          12,
          8,
          8,
          11,
          13,
          15,
          10,
          8,
          5,
          7,
          12,
          11,
          7,
          13,
          9,
          11,
          15,
          12,
          7,
          10,
          8,
          9,
          9,
          7,
          13,
          11,
          12,
          12,
          13,
          13,
          7,
          8,
          16,
          8,
          9,
          14,
          8,
          19,
          15,
          11,
          9,
          9,
          5,
          13,
          9,
          10,
          16,
          9,
          8,
          7,
          14,
          5,
          14,
          3,
          10,
          11,
          5,
          15,
          15,
          0,
          5,
          13,
          9,
          9,
          0,
          6,
          10,
          15,
          6,
          3,
          14,
          15,
          6,
          12,
          14,
          13,
          6,
          14,
          14,
          11,
          9,
          13,
          12,
          13,
          11,
          14,
          11,
          8,
          12,
          10,
          9,
          10,
          9,
          11,
          6,
          19,
          12,
          14,
          9,
          10,
          9,
          13,
          10,
          14,
          12,
          14,
          7,
          7,
          7,
          9,
          14,
          11,
          10,
          9,
          13,
          5,
          9,
          0,
          5,
          11,
          15,
          9,
          18,
          5,
          10,
          10,
          4,
          13,
          12,
          10,
          7,
          9,
          7,
          10,
          15,
          8,
          14,
          11,
          11,
          10,
          9,
          11,
          8,
          14,
          7,
          13,
          7,
          14,
          9,
          12,
          7,
          8,
          10,
          13,
          11,
          10,
          12,
          7,
          4,
          16,
          8,
          12,
          13,
          12,
          10,
          12,
          8,
          9,
          8,
          11,
          13,
          7,
          10,
          11,
          14,
          8,
          11,
          10,
          7,
          13,
          0,
          12,
          13,
          7,
          9,
          10,
          9,
          11,
          0,
          6,
          12,
          11,
          10,
          9,
          11,
          14,
          15,
          13,
          10,
          2,
          14,
          11,
          11,
          11,
          11,
          13,
          12,
          15,
          14,
          14,
          8,
          11,
          16,
          13,
          9,
          7,
          13,
          12,
          8,
          13,
          11,
          14,
          10,
          17,
          8,
          11,
          8,
          10,
          14,
          12,
          9,
          13,
          14,
          9,
          10,
          7,
          15,
          7,
          9,
          5,
          15,
          13,
          15,
          9,
          3,
          14,
          11,
          10,
          19,
          8,
          14,
          9,
          13,
          12,
          10,
          15,
          8,
          8,
          4,
          3,
          18,
          13,
          10,
          10,
          11,
          11,
          10,
          12,
          13,
          14,
          8,
          9,
          3,
          9,
          13,
          3,
          10,
          8,
          15,
          13,
          7,
          9,
          5,
          9,
          10,
          11,
          13,
          11,
          7,
          9,
          14,
          9,
          9,
          11,
          9,
          5,
          11,
          9,
          12,
          14,
          11,
          11,
          6,
          11,
          12,
          5,
          14,
          3,
          5,
          0,
          13,
          9,
          16,
          7,
          15,
          12,
          18,
          10,
          7,
          11,
          9,
          12,
          13,
          14,
          10,
          7,
          12,
          10,
          11,
          7,
          12,
          9,
          9,
          7,
          8,
          11,
          10,
          7,
          4,
          3,
          11,
          7,
          8,
          13,
          13,
          10,
          13,
          13,
          14,
          11,
          14,
          10,
          10,
          9,
          7,
          7,
          6,
          10,
          11,
          14,
          7,
          7,
          6,
          11,
          8,
          12,
          10,
          9,
          11,
          9,
          7,
          11,
          14,
          12,
          15,
          6,
          15,
          12,
          14,
          19,
          9,
          7,
          11,
          9,
          10,
          19,
          10,
          9,
          7,
          13,
          12,
          15,
          10,
          9,
          8,
          11,
          6,
          12,
          10,
          8,
          13,
          13,
          4,
          14,
          13,
          8,
          13,
          4,
          10,
          10,
          6,
          15,
          10,
          14,
          13,
          13,
          6,
          14,
          10,
          9,
          3,
          8,
          5,
          4,
          8,
          10,
          8,
          7,
          10,
          13,
          12,
          9,
          9,
          7,
          10,
          13,
          4,
          7,
          12,
          7,
          5,
          12,
          0,
          6,
          10,
          12,
          12,
          9,
          12,
          8,
          13,
          3,
          4,
          13,
          14,
          12,
          0,
          7,
          10,
          7,
          13,
          9,
          7,
          14,
          5,
          11,
          9,
          9,
          3,
          14,
          15,
          14,
          6,
          9,
          14,
          11,
          15,
          11,
          11,
          0,
          14,
          12,
          14,
          12,
          15,
          6,
          13,
          11,
          12,
          11,
          13,
          6,
          7,
          6,
          12,
          10,
          8,
          14,
          14,
          10,
          8,
          8,
          12,
          9,
          9,
          11,
          15,
          14,
          7,
          11,
          0,
          13,
          6,
          9,
          6,
          10,
          13,
          13,
          12,
          6,
          7,
          17,
          9,
          15,
          14,
          14,
          9,
          12,
          8,
          12,
          11,
          8,
          15,
          14,
          0,
          10,
          8,
          7,
          11,
          9,
          0,
          13,
          10,
          9,
          13,
          8,
          12,
          14,
          0,
          3,
          7,
          10,
          12,
          6,
          12,
          7,
          7,
          6,
          6,
          14,
          2,
          13,
          11,
          7,
          10,
          7,
          11,
          12,
          13,
          13,
          14,
          14,
          12,
          9,
          12,
          8,
          15,
          12,
          9,
          7,
          15,
          9,
          13,
          10,
          9,
          11,
          5,
          4,
          6,
          0,
          11,
          14,
          14,
          9,
          10,
          13,
          12,
          12,
          6,
          7,
          13,
          11,
          12,
          7,
          5,
          10,
          11,
          8,
          10,
          5,
          13,
          11,
          10,
          14,
          9,
          7,
          14,
          9,
          12,
          10,
          7,
          13,
          12,
          10,
          8,
          8,
          12,
          7,
          10,
          12,
          12,
          8,
          7,
          8,
          4,
          10,
          7,
          11,
          10,
          15,
          13,
          12,
          11,
          10,
          11,
          11,
          11,
          9,
          14,
          9,
          6,
          8,
          14,
          0,
          5,
          10,
          10,
          10,
          13,
          11,
          10,
          7,
          11,
          11,
          15,
          8,
          5,
          15,
          8,
          8,
          13,
          11,
          14,
          12,
          9,
          10,
          9,
          7,
          8,
          14,
          14,
          13,
          8,
          12,
          10,
          16,
          7,
          12,
          8,
          8,
          12,
          10,
          5,
          14,
          0,
          10,
          13,
          15,
          14,
          9,
          7,
          5,
          14,
          14,
          18,
          10,
          14,
          11,
          0,
          15,
          3,
          9,
          8,
          11,
          11,
          10,
          11,
          18,
          6,
          9,
          6,
          8,
          11,
          13,
          7,
          14,
          6,
          12,
          16,
          7,
          6,
          14,
          10,
          12,
          9,
          9,
          12,
          0,
          11,
          9,
          14,
          11,
          8,
          14,
          13,
          15,
          12,
          14,
          15,
          14,
          10,
          14,
          14,
          5,
          13,
          10,
          12,
          6,
          13,
          14,
          11,
          4,
          9,
          4,
          8,
          16,
          9,
          11,
          10,
          12,
          9,
          6,
          10,
          4,
          17,
          7,
          15,
          7,
          14,
          6,
          14,
          9,
          6,
          12,
          12,
          8,
          8,
          12,
          15,
          8,
          14,
          14,
          12,
          8,
          3,
          8,
          10,
          9,
          8,
          11,
          13,
          15,
          10,
          9,
          15,
          10,
          12,
          8,
          15,
          14,
          10,
          7,
          14,
          9,
          6,
          10,
          11,
          13,
          5,
          12,
          14,
          14,
          10,
          8,
          5,
          3,
          12,
          10,
          9,
          7,
          9,
          10,
          11,
          12,
          13,
          14,
          11,
          8,
          13,
          7,
          7,
          7,
          12,
          8,
          0,
          10,
          9,
          8,
          8,
          13,
          7,
          7,
          0,
          15,
          2,
          10,
          10,
          13,
          11,
          15,
          12,
          14,
          3,
          14,
          13,
          19,
          12,
          8,
          7,
          15,
          17,
          14,
          10,
          11,
          12,
          13,
          11,
          18,
          12,
          11,
          3,
          7,
          14,
          8,
          11,
          9,
          9,
          7,
          10,
          12,
          5,
          11,
          9,
          14,
          5,
          11,
          13,
          7,
          7,
          14,
          8,
          4,
          10,
          10,
          12,
          11,
          15,
          13,
          5,
          12,
          11,
          14,
          9,
          14,
          17,
          7,
          3,
          18,
          8,
          11,
          13,
          16,
          15,
          11,
          10,
          9,
          15,
          4,
          8,
          14,
          7,
          9,
          7,
          11,
          8,
          10,
          12,
          15,
          9,
          7,
          11,
          10,
          12,
          6,
          11,
          13,
          15,
          8,
          12,
          11,
          11,
          13,
          13,
          9,
          9,
          9,
          10,
          7,
          9,
          9,
          11,
          10,
          5,
          3,
          16,
          12,
          7,
          14,
          9,
          13,
          6,
          8,
          0,
          11,
          8,
          11,
          9,
          8,
          13,
          7,
          10,
          12,
          8,
          10,
          13,
          10,
          7,
          13,
          12,
          8,
          12,
          11,
          7,
          16,
          14,
          9,
          11,
          5,
          4,
          14,
          11,
          2,
          12,
          17,
          12,
          14,
          13,
          13,
          14,
          11,
          11,
          12,
          10,
          13,
          11,
          14,
          0,
          10,
          15,
          9,
          13,
          10,
          12,
          7,
          10,
          3,
          9,
          12,
          10,
          8,
          10,
          9,
          14,
          8,
          11,
          12,
          11,
          16,
          9,
          11,
          2,
          11,
          8,
          11,
          12,
          8,
          11,
          13,
          9,
          9,
          13,
          14,
          10,
          12,
          12,
          14,
          10,
          12,
          10,
          10,
          10,
          13,
          9,
          12,
          12,
          11,
          18,
          12,
          12,
          3,
          12,
          9,
          10,
          15,
          11,
          13,
          6,
          9,
          15,
          19,
          10,
          3,
          8,
          15,
          13,
          9,
          8,
          9,
          9,
          9,
          14,
          6,
          10,
          11,
          12,
          15,
          7,
          13,
          14,
          10,
          18,
          13,
          13,
          10,
          5,
          14,
          9,
          13,
          10,
          13,
          11,
          9,
          11,
          15,
          8,
          8,
          8,
          11,
          9,
          9,
          8,
          9,
          14,
          11,
          8,
          10,
          14,
          12,
          11,
          13,
          10,
          12,
          12,
          8,
          11,
          14,
          19,
          9,
          3,
          13,
          15,
          7,
          7,
          12,
          8,
          9,
          3,
          9,
          10,
          8,
          9,
          11,
          8,
          8,
          9,
          8,
          19,
          8,
          14,
          13,
          12,
          9,
          14,
          11,
          10,
          12,
          18,
          8,
          7,
          8,
          11,
          3,
          11,
          10,
          6,
          19,
          8,
          12,
          5,
          14,
          13,
          13,
          13,
          8,
          12,
          8,
          13,
          10,
          11,
          9,
          11,
          11,
          9,
          10,
          9,
          13,
          14,
          0,
          11,
          13,
          13,
          10,
          7,
          11,
          9,
          13,
          7,
          13,
          11,
          11,
          15,
          10,
          14,
          5,
          9,
          7,
          7,
          6,
          3,
          5,
          15,
          12,
          12,
          13,
          13,
          8,
          14,
          11,
          14,
          10,
          8,
          14,
          12,
          14,
          13,
          10,
          12,
          14,
          7,
          7,
          11,
          12,
          6,
          9,
          9,
          12,
          6,
          13,
          13,
          12,
          8,
          7,
          10,
          11,
          13,
          7,
          9,
          14,
          10,
          3,
          9,
          14,
          10,
          11,
          11,
          13,
          9,
          10,
          12,
          9,
          15,
          9,
          15,
          7,
          9,
          3,
          7,
          14,
          8,
          10,
          10,
          11,
          11,
          7,
          10,
          3,
          14,
          12,
          12,
          7,
          10,
          9,
          13,
          13,
          5,
          11,
          12,
          6,
          9,
          13,
          17,
          12,
          13,
          9,
          7,
          7,
          19,
          0,
          3,
          12,
          8,
          12,
          10,
          15,
          9,
          12,
          10,
          12,
          8,
          13,
          10,
          9,
          12,
          0,
          14,
          7,
          11,
          8,
          11,
          15,
          15,
          10,
          8,
          10,
          13,
          10,
          7,
          8,
          9,
          15,
          7,
          7,
          13,
          0,
          15,
          7,
          7,
          11,
          10,
          9,
          12,
          14,
          14,
          10,
          15,
          13,
          12,
          7,
          11,
          12,
          14,
          12,
          11,
          8,
          10,
          13,
          11,
          12,
          16,
          10,
          9,
          10,
          13,
          10,
          15,
          10,
          12,
          14,
          11,
          12,
          10,
          9,
          12,
          7,
          10,
          11,
          14,
          9,
          12,
          9,
          13,
          7,
          15,
          12,
          0,
          12,
          13,
          11,
          9,
          11,
          11,
          11,
          8,
          14,
          9,
          9,
          7,
          8,
          7,
          9,
          10,
          3,
          9,
          7,
          14,
          10,
          13,
          7,
          14,
          7,
          12,
          13,
          8,
          4,
          4,
          8,
          13,
          10,
          6,
          14,
          5,
          7,
          10,
          13,
          10,
          0,
          11,
          14,
          16,
          7,
          9,
          12,
          11,
          14,
          5,
          10,
          10,
          13,
          15,
          9,
          12,
          15,
          5,
          8,
          7,
          7,
          7,
          13,
          9,
          8,
          9,
          5,
          11,
          14,
          12,
          9,
          14,
          14,
          7,
          19,
          5,
          12,
          10,
          12,
          17,
          13,
          12,
          8,
          14,
          10,
          12,
          11,
          9,
          11,
          10,
          11,
          10,
          15,
          10,
          5,
          13,
          7,
          7,
          8,
          3,
          13,
          14,
          11,
          15,
          10,
          4,
          7,
          3,
          10,
          9,
          9,
          10,
          7,
          11,
          8,
          9,
          9,
          8,
          11,
          13,
          4,
          12,
          10,
          13,
          7,
          8
         ],
         "xaxis": "x",
         "yaxis": "y"
        }
       ],
       "layout": {
        "barmode": "relative",
        "legend": {
         "tracegroupgap": 0
        },
        "margin": {
         "t": 60
        },
        "template": {
         "data": {
          "bar": [
           {
            "error_x": {
             "color": "#2a3f5f"
            },
            "error_y": {
             "color": "#2a3f5f"
            },
            "marker": {
             "line": {
              "color": "#E5ECF6",
              "width": 0.5
             },
             "pattern": {
              "fillmode": "overlay",
              "size": 10,
              "solidity": 0.2
             }
            },
            "type": "bar"
           }
          ],
          "barpolar": [
           {
            "marker": {
             "line": {
              "color": "#E5ECF6",
              "width": 0.5
             },
             "pattern": {
              "fillmode": "overlay",
              "size": 10,
              "solidity": 0.2
             }
            },
            "type": "barpolar"
           }
          ],
          "carpet": [
           {
            "aaxis": {
             "endlinecolor": "#2a3f5f",
             "gridcolor": "white",
             "linecolor": "white",
             "minorgridcolor": "white",
             "startlinecolor": "#2a3f5f"
            },
            "baxis": {
             "endlinecolor": "#2a3f5f",
             "gridcolor": "white",
             "linecolor": "white",
             "minorgridcolor": "white",
             "startlinecolor": "#2a3f5f"
            },
            "type": "carpet"
           }
          ],
          "choropleth": [
           {
            "colorbar": {
             "outlinewidth": 0,
             "ticks": ""
            },
            "type": "choropleth"
           }
          ],
          "contour": [
           {
            "colorbar": {
             "outlinewidth": 0,
             "ticks": ""
            },
            "colorscale": [
             [
              0,
              "#0d0887"
             ],
             [
              0.1111111111111111,
              "#46039f"
             ],
             [
              0.2222222222222222,
              "#7201a8"
             ],
             [
              0.3333333333333333,
              "#9c179e"
             ],
             [
              0.4444444444444444,
              "#bd3786"
             ],
             [
              0.5555555555555556,
              "#d8576b"
             ],
             [
              0.6666666666666666,
              "#ed7953"
             ],
             [
              0.7777777777777778,
              "#fb9f3a"
             ],
             [
              0.8888888888888888,
              "#fdca26"
             ],
             [
              1,
              "#f0f921"
             ]
            ],
            "type": "contour"
           }
          ],
          "contourcarpet": [
           {
            "colorbar": {
             "outlinewidth": 0,
             "ticks": ""
            },
            "type": "contourcarpet"
           }
          ],
          "heatmap": [
           {
            "colorbar": {
             "outlinewidth": 0,
             "ticks": ""
            },
            "colorscale": [
             [
              0,
              "#0d0887"
             ],
             [
              0.1111111111111111,
              "#46039f"
             ],
             [
              0.2222222222222222,
              "#7201a8"
             ],
             [
              0.3333333333333333,
              "#9c179e"
             ],
             [
              0.4444444444444444,
              "#bd3786"
             ],
             [
              0.5555555555555556,
              "#d8576b"
             ],
             [
              0.6666666666666666,
              "#ed7953"
             ],
             [
              0.7777777777777778,
              "#fb9f3a"
             ],
             [
              0.8888888888888888,
              "#fdca26"
             ],
             [
              1,
              "#f0f921"
             ]
            ],
            "type": "heatmap"
           }
          ],
          "heatmapgl": [
           {
            "colorbar": {
             "outlinewidth": 0,
             "ticks": ""
            },
            "colorscale": [
             [
              0,
              "#0d0887"
             ],
             [
              0.1111111111111111,
              "#46039f"
             ],
             [
              0.2222222222222222,
              "#7201a8"
             ],
             [
              0.3333333333333333,
              "#9c179e"
             ],
             [
              0.4444444444444444,
              "#bd3786"
             ],
             [
              0.5555555555555556,
              "#d8576b"
             ],
             [
              0.6666666666666666,
              "#ed7953"
             ],
             [
              0.7777777777777778,
              "#fb9f3a"
             ],
             [
              0.8888888888888888,
              "#fdca26"
             ],
             [
              1,
              "#f0f921"
             ]
            ],
            "type": "heatmapgl"
           }
          ],
          "histogram": [
           {
            "marker": {
             "pattern": {
              "fillmode": "overlay",
              "size": 10,
              "solidity": 0.2
             }
            },
            "type": "histogram"
           }
          ],
          "histogram2d": [
           {
            "colorbar": {
             "outlinewidth": 0,
             "ticks": ""
            },
            "colorscale": [
             [
              0,
              "#0d0887"
             ],
             [
              0.1111111111111111,
              "#46039f"
             ],
             [
              0.2222222222222222,
              "#7201a8"
             ],
             [
              0.3333333333333333,
              "#9c179e"
             ],
             [
              0.4444444444444444,
              "#bd3786"
             ],
             [
              0.5555555555555556,
              "#d8576b"
             ],
             [
              0.6666666666666666,
              "#ed7953"
             ],
             [
              0.7777777777777778,
              "#fb9f3a"
             ],
             [
              0.8888888888888888,
              "#fdca26"
             ],
             [
              1,
              "#f0f921"
             ]
            ],
            "type": "histogram2d"
           }
          ],
          "histogram2dcontour": [
           {
            "colorbar": {
             "outlinewidth": 0,
             "ticks": ""
            },
            "colorscale": [
             [
              0,
              "#0d0887"
             ],
             [
              0.1111111111111111,
              "#46039f"
             ],
             [
              0.2222222222222222,
              "#7201a8"
             ],
             [
              0.3333333333333333,
              "#9c179e"
             ],
             [
              0.4444444444444444,
              "#bd3786"
             ],
             [
              0.5555555555555556,
              "#d8576b"
             ],
             [
              0.6666666666666666,
              "#ed7953"
             ],
             [
              0.7777777777777778,
              "#fb9f3a"
             ],
             [
              0.8888888888888888,
              "#fdca26"
             ],
             [
              1,
              "#f0f921"
             ]
            ],
            "type": "histogram2dcontour"
           }
          ],
          "mesh3d": [
           {
            "colorbar": {
             "outlinewidth": 0,
             "ticks": ""
            },
            "type": "mesh3d"
           }
          ],
          "parcoords": [
           {
            "line": {
             "colorbar": {
              "outlinewidth": 0,
              "ticks": ""
             }
            },
            "type": "parcoords"
           }
          ],
          "pie": [
           {
            "automargin": true,
            "type": "pie"
           }
          ],
          "scatter": [
           {
            "fillpattern": {
             "fillmode": "overlay",
             "size": 10,
             "solidity": 0.2
            },
            "type": "scatter"
           }
          ],
          "scatter3d": [
           {
            "line": {
             "colorbar": {
              "outlinewidth": 0,
              "ticks": ""
             }
            },
            "marker": {
             "colorbar": {
              "outlinewidth": 0,
              "ticks": ""
             }
            },
            "type": "scatter3d"
           }
          ],
          "scattercarpet": [
           {
            "marker": {
             "colorbar": {
              "outlinewidth": 0,
              "ticks": ""
             }
            },
            "type": "scattercarpet"
           }
          ],
          "scattergeo": [
           {
            "marker": {
             "colorbar": {
              "outlinewidth": 0,
              "ticks": ""
             }
            },
            "type": "scattergeo"
           }
          ],
          "scattergl": [
           {
            "marker": {
             "colorbar": {
              "outlinewidth": 0,
              "ticks": ""
             }
            },
            "type": "scattergl"
           }
          ],
          "scattermapbox": [
           {
            "marker": {
             "colorbar": {
              "outlinewidth": 0,
              "ticks": ""
             }
            },
            "type": "scattermapbox"
           }
          ],
          "scatterpolar": [
           {
            "marker": {
             "colorbar": {
              "outlinewidth": 0,
              "ticks": ""
             }
            },
            "type": "scatterpolar"
           }
          ],
          "scatterpolargl": [
           {
            "marker": {
             "colorbar": {
              "outlinewidth": 0,
              "ticks": ""
             }
            },
            "type": "scatterpolargl"
           }
          ],
          "scatterternary": [
           {
            "marker": {
             "colorbar": {
              "outlinewidth": 0,
              "ticks": ""
             }
            },
            "type": "scatterternary"
           }
          ],
          "surface": [
           {
            "colorbar": {
             "outlinewidth": 0,
             "ticks": ""
            },
            "colorscale": [
             [
              0,
              "#0d0887"
             ],
             [
              0.1111111111111111,
              "#46039f"
             ],
             [
              0.2222222222222222,
              "#7201a8"
             ],
             [
              0.3333333333333333,
              "#9c179e"
             ],
             [
              0.4444444444444444,
              "#bd3786"
             ],
             [
              0.5555555555555556,
              "#d8576b"
             ],
             [
              0.6666666666666666,
              "#ed7953"
             ],
             [
              0.7777777777777778,
              "#fb9f3a"
             ],
             [
              0.8888888888888888,
              "#fdca26"
             ],
             [
              1,
              "#f0f921"
             ]
            ],
            "type": "surface"
           }
          ],
          "table": [
           {
            "cells": {
             "fill": {
              "color": "#EBF0F8"
             },
             "line": {
              "color": "white"
             }
            },
            "header": {
             "fill": {
              "color": "#C8D4E3"
             },
             "line": {
              "color": "white"
             }
            },
            "type": "table"
           }
          ]
         },
         "layout": {
          "annotationdefaults": {
           "arrowcolor": "#2a3f5f",
           "arrowhead": 0,
           "arrowwidth": 1
          },
          "autotypenumbers": "strict",
          "coloraxis": {
           "colorbar": {
            "outlinewidth": 0,
            "ticks": ""
           }
          },
          "colorscale": {
           "diverging": [
            [
             0,
             "#8e0152"
            ],
            [
             0.1,
             "#c51b7d"
            ],
            [
             0.2,
             "#de77ae"
            ],
            [
             0.3,
             "#f1b6da"
            ],
            [
             0.4,
             "#fde0ef"
            ],
            [
             0.5,
             "#f7f7f7"
            ],
            [
             0.6,
             "#e6f5d0"
            ],
            [
             0.7,
             "#b8e186"
            ],
            [
             0.8,
             "#7fbc41"
            ],
            [
             0.9,
             "#4d9221"
            ],
            [
             1,
             "#276419"
            ]
           ],
           "sequential": [
            [
             0,
             "#0d0887"
            ],
            [
             0.1111111111111111,
             "#46039f"
            ],
            [
             0.2222222222222222,
             "#7201a8"
            ],
            [
             0.3333333333333333,
             "#9c179e"
            ],
            [
             0.4444444444444444,
             "#bd3786"
            ],
            [
             0.5555555555555556,
             "#d8576b"
            ],
            [
             0.6666666666666666,
             "#ed7953"
            ],
            [
             0.7777777777777778,
             "#fb9f3a"
            ],
            [
             0.8888888888888888,
             "#fdca26"
            ],
            [
             1,
             "#f0f921"
            ]
           ],
           "sequentialminus": [
            [
             0,
             "#0d0887"
            ],
            [
             0.1111111111111111,
             "#46039f"
            ],
            [
             0.2222222222222222,
             "#7201a8"
            ],
            [
             0.3333333333333333,
             "#9c179e"
            ],
            [
             0.4444444444444444,
             "#bd3786"
            ],
            [
             0.5555555555555556,
             "#d8576b"
            ],
            [
             0.6666666666666666,
             "#ed7953"
            ],
            [
             0.7777777777777778,
             "#fb9f3a"
            ],
            [
             0.8888888888888888,
             "#fdca26"
            ],
            [
             1,
             "#f0f921"
            ]
           ]
          },
          "colorway": [
           "#636efa",
           "#EF553B",
           "#00cc96",
           "#ab63fa",
           "#FFA15A",
           "#19d3f3",
           "#FF6692",
           "#B6E880",
           "#FF97FF",
           "#FECB52"
          ],
          "font": {
           "color": "#2a3f5f"
          },
          "geo": {
           "bgcolor": "white",
           "lakecolor": "white",
           "landcolor": "#E5ECF6",
           "showlakes": true,
           "showland": true,
           "subunitcolor": "white"
          },
          "hoverlabel": {
           "align": "left"
          },
          "hovermode": "closest",
          "mapbox": {
           "style": "light"
          },
          "paper_bgcolor": "white",
          "plot_bgcolor": "#E5ECF6",
          "polar": {
           "angularaxis": {
            "gridcolor": "white",
            "linecolor": "white",
            "ticks": ""
           },
           "bgcolor": "#E5ECF6",
           "radialaxis": {
            "gridcolor": "white",
            "linecolor": "white",
            "ticks": ""
           }
          },
          "scene": {
           "xaxis": {
            "backgroundcolor": "#E5ECF6",
            "gridcolor": "white",
            "gridwidth": 2,
            "linecolor": "white",
            "showbackground": true,
            "ticks": "",
            "zerolinecolor": "white"
           },
           "yaxis": {
            "backgroundcolor": "#E5ECF6",
            "gridcolor": "white",
            "gridwidth": 2,
            "linecolor": "white",
            "showbackground": true,
            "ticks": "",
            "zerolinecolor": "white"
           },
           "zaxis": {
            "backgroundcolor": "#E5ECF6",
            "gridcolor": "white",
            "gridwidth": 2,
            "linecolor": "white",
            "showbackground": true,
            "ticks": "",
            "zerolinecolor": "white"
           }
          },
          "shapedefaults": {
           "line": {
            "color": "#2a3f5f"
           }
          },
          "ternary": {
           "aaxis": {
            "gridcolor": "white",
            "linecolor": "white",
            "ticks": ""
           },
           "baxis": {
            "gridcolor": "white",
            "linecolor": "white",
            "ticks": ""
           },
           "bgcolor": "#E5ECF6",
           "caxis": {
            "gridcolor": "white",
            "linecolor": "white",
            "ticks": ""
           }
          },
          "title": {
           "x": 0.05
          },
          "xaxis": {
           "automargin": true,
           "gridcolor": "white",
           "linecolor": "white",
           "ticks": "",
           "title": {
            "standoff": 15
           },
           "zerolinecolor": "white",
           "zerolinewidth": 2
          },
          "yaxis": {
           "automargin": true,
           "gridcolor": "white",
           "linecolor": "white",
           "ticks": "",
           "title": {
            "standoff": 15
           },
           "zerolinecolor": "white",
           "zerolinewidth": 2
          }
         }
        },
        "xaxis": {
         "anchor": "y",
         "domain": [
          0,
          1
         ],
         "title": {
          "text": "percent_hike"
         }
        },
        "yaxis": {
         "anchor": "x",
         "domain": [
          0,
          1
         ],
         "title": {
          "text": "count"
         }
        }
       }
      }
     },
     "metadata": {},
     "output_type": "display_data"
    }
   ],
   "source": [
    "fig = px.histogram(emp_final, x = 'percent_hike')\n",
    "fig.show()"
   ]
  },
  {
   "cell_type": "code",
   "execution_count": 116,
   "metadata": {},
   "outputs": [
    {
     "data": {
      "text/html": [
       "<div>\n",
       "<style scoped>\n",
       "    .dataframe tbody tr th:only-of-type {\n",
       "        vertical-align: middle;\n",
       "    }\n",
       "\n",
       "    .dataframe tbody tr th {\n",
       "        vertical-align: top;\n",
       "    }\n",
       "\n",
       "    .dataframe thead th {\n",
       "        text-align: right;\n",
       "    }\n",
       "</style>\n",
       "<table border=\"1\" class=\"dataframe\">\n",
       "  <thead>\n",
       "    <tr style=\"text-align: right;\">\n",
       "      <th></th>\n",
       "      <th>emp_id</th>\n",
       "      <th>status</th>\n",
       "      <th>location</th>\n",
       "      <th>level</th>\n",
       "      <th>gender</th>\n",
       "      <th>emp_age</th>\n",
       "      <th>rating</th>\n",
       "      <th>mgr_rating</th>\n",
       "      <th>mgr_reportees</th>\n",
       "      <th>mgr_age</th>\n",
       "      <th>mgr_tenure</th>\n",
       "      <th>compensation</th>\n",
       "      <th>percent_hike</th>\n",
       "      <th>hiring_score</th>\n",
       "      <th>hiring_source</th>\n",
       "      <th>no_companies_worked</th>\n",
       "      <th>distance_from_home</th>\n",
       "      <th>total_dependents</th>\n",
       "      <th>marital_status</th>\n",
       "      <th>education</th>\n",
       "      <th>promotion_last_2_years</th>\n",
       "      <th>no_leaves_taken</th>\n",
       "      <th>total_experience</th>\n",
       "      <th>monthly_overtime_hrs</th>\n",
       "      <th>date_of_joining</th>\n",
       "      <th>last_working_date</th>\n",
       "      <th>department</th>\n",
       "      <th>mgr_id</th>\n",
       "      <th>cutoff_date</th>\n",
       "      <th>turnover</th>\n",
       "      <th>mgr_effectiveness</th>\n",
       "      <th>career_satisfaction</th>\n",
       "      <th>perf_satisfaction</th>\n",
       "      <th>work_satisfaction</th>\n",
       "      <th>age_diff</th>\n",
       "      <th>job_hop_index</th>\n",
       "      <th>tenure</th>\n",
       "      <th>median_compensation</th>\n",
       "      <th>compa_ratio</th>\n",
       "      <th>compa_level</th>\n",
       "      <th>x_pred</th>\n",
       "      <th>predicted</th>\n",
       "      <th>x_probability</th>\n",
       "    </tr>\n",
       "  </thead>\n",
       "  <tbody>\n",
       "    <tr>\n",
       "      <th>0</th>\n",
       "      <td>E10012</td>\n",
       "      <td>Active</td>\n",
       "      <td>New York</td>\n",
       "      <td>Analyst</td>\n",
       "      <td>Female</td>\n",
       "      <td>25.09</td>\n",
       "      <td>Above Average</td>\n",
       "      <td>Acceptable</td>\n",
       "      <td>9</td>\n",
       "      <td>44.07</td>\n",
       "      <td>3.17</td>\n",
       "      <td>64320</td>\n",
       "      <td>10</td>\n",
       "      <td>70</td>\n",
       "      <td>Consultant</td>\n",
       "      <td>1</td>\n",
       "      <td>14</td>\n",
       "      <td>2</td>\n",
       "      <td>Single</td>\n",
       "      <td>Bachelors</td>\n",
       "      <td>No</td>\n",
       "      <td>2</td>\n",
       "      <td>6.86</td>\n",
       "      <td>1</td>\n",
       "      <td>2011-06-03</td>\n",
       "      <td>NaT</td>\n",
       "      <td>Customer Operations</td>\n",
       "      <td>E9335</td>\n",
       "      <td>2014-12-31</td>\n",
       "      <td>0</td>\n",
       "      <td>0.730</td>\n",
       "      <td>0.73</td>\n",
       "      <td>0.73</td>\n",
       "      <td>0.75</td>\n",
       "      <td>18.98</td>\n",
       "      <td>6.860000</td>\n",
       "      <td>3.821918</td>\n",
       "      <td>51840</td>\n",
       "      <td>1.240741</td>\n",
       "      <td>Above</td>\n",
       "      <td>0.000088</td>\n",
       "      <td>0</td>\n",
       "      <td>0.000088</td>\n",
       "    </tr>\n",
       "    <tr>\n",
       "      <th>1</th>\n",
       "      <td>E10025</td>\n",
       "      <td>Active</td>\n",
       "      <td>Chicago</td>\n",
       "      <td>Analyst</td>\n",
       "      <td>Female</td>\n",
       "      <td>25.98</td>\n",
       "      <td>Acceptable</td>\n",
       "      <td>Excellent</td>\n",
       "      <td>4</td>\n",
       "      <td>35.99</td>\n",
       "      <td>7.92</td>\n",
       "      <td>48204</td>\n",
       "      <td>8</td>\n",
       "      <td>70</td>\n",
       "      <td>Job Fairs</td>\n",
       "      <td>9</td>\n",
       "      <td>21</td>\n",
       "      <td>2</td>\n",
       "      <td>Single</td>\n",
       "      <td>Bachelors</td>\n",
       "      <td>No</td>\n",
       "      <td>10</td>\n",
       "      <td>4.88</td>\n",
       "      <td>5</td>\n",
       "      <td>2009-09-23</td>\n",
       "      <td>NaT</td>\n",
       "      <td>Customer Operations</td>\n",
       "      <td>E6655</td>\n",
       "      <td>2014-12-31</td>\n",
       "      <td>0</td>\n",
       "      <td>0.581</td>\n",
       "      <td>0.72</td>\n",
       "      <td>0.84</td>\n",
       "      <td>0.85</td>\n",
       "      <td>10.01</td>\n",
       "      <td>0.542222</td>\n",
       "      <td>5.271233</td>\n",
       "      <td>51840</td>\n",
       "      <td>0.929861</td>\n",
       "      <td>Below</td>\n",
       "      <td>0.005668</td>\n",
       "      <td>0</td>\n",
       "      <td>0.005668</td>\n",
       "    </tr>\n",
       "    <tr>\n",
       "      <th>2</th>\n",
       "      <td>E10027</td>\n",
       "      <td>Active</td>\n",
       "      <td>Orlando</td>\n",
       "      <td>Specialist</td>\n",
       "      <td>Female</td>\n",
       "      <td>33.40</td>\n",
       "      <td>Acceptable</td>\n",
       "      <td>Above Average</td>\n",
       "      <td>6</td>\n",
       "      <td>35.78</td>\n",
       "      <td>4.38</td>\n",
       "      <td>85812</td>\n",
       "      <td>11</td>\n",
       "      <td>77</td>\n",
       "      <td>Consultant</td>\n",
       "      <td>3</td>\n",
       "      <td>15</td>\n",
       "      <td>5</td>\n",
       "      <td>Single</td>\n",
       "      <td>Bachelors</td>\n",
       "      <td>Yes</td>\n",
       "      <td>18</td>\n",
       "      <td>8.55</td>\n",
       "      <td>3</td>\n",
       "      <td>2005-02-11</td>\n",
       "      <td>NaT</td>\n",
       "      <td>Customer Operations</td>\n",
       "      <td>E13942</td>\n",
       "      <td>2014-12-31</td>\n",
       "      <td>0</td>\n",
       "      <td>0.770</td>\n",
       "      <td>0.85</td>\n",
       "      <td>0.80</td>\n",
       "      <td>0.87</td>\n",
       "      <td>2.38</td>\n",
       "      <td>2.850000</td>\n",
       "      <td>9.161644</td>\n",
       "      <td>83496</td>\n",
       "      <td>1.027738</td>\n",
       "      <td>Above</td>\n",
       "      <td>0.000189</td>\n",
       "      <td>0</td>\n",
       "      <td>0.000189</td>\n",
       "    </tr>\n",
       "    <tr>\n",
       "      <th>3</th>\n",
       "      <td>E10048</td>\n",
       "      <td>Active</td>\n",
       "      <td>Chicago</td>\n",
       "      <td>Specialist</td>\n",
       "      <td>Male</td>\n",
       "      <td>24.55</td>\n",
       "      <td>Acceptable</td>\n",
       "      <td>Acceptable</td>\n",
       "      <td>10</td>\n",
       "      <td>26.70</td>\n",
       "      <td>2.87</td>\n",
       "      <td>49536</td>\n",
       "      <td>8</td>\n",
       "      <td>71</td>\n",
       "      <td>Job Boards</td>\n",
       "      <td>5</td>\n",
       "      <td>9</td>\n",
       "      <td>3</td>\n",
       "      <td>Single</td>\n",
       "      <td>Bachelors</td>\n",
       "      <td>Yes</td>\n",
       "      <td>19</td>\n",
       "      <td>4.76</td>\n",
       "      <td>8</td>\n",
       "      <td>2011-05-20</td>\n",
       "      <td>NaT</td>\n",
       "      <td>Customer Operations</td>\n",
       "      <td>E7063</td>\n",
       "      <td>2014-12-31</td>\n",
       "      <td>0</td>\n",
       "      <td>0.240</td>\n",
       "      <td>0.42</td>\n",
       "      <td>0.33</td>\n",
       "      <td>0.85</td>\n",
       "      <td>2.15</td>\n",
       "      <td>0.952000</td>\n",
       "      <td>3.616438</td>\n",
       "      <td>83496</td>\n",
       "      <td>0.593274</td>\n",
       "      <td>Below</td>\n",
       "      <td>0.410186</td>\n",
       "      <td>0</td>\n",
       "      <td>0.410186</td>\n",
       "    </tr>\n",
       "    <tr>\n",
       "      <th>4</th>\n",
       "      <td>E10060</td>\n",
       "      <td>Active</td>\n",
       "      <td>Orlando</td>\n",
       "      <td>Analyst</td>\n",
       "      <td>Male</td>\n",
       "      <td>31.23</td>\n",
       "      <td>Acceptable</td>\n",
       "      <td>Acceptable</td>\n",
       "      <td>11</td>\n",
       "      <td>34.28</td>\n",
       "      <td>12.95</td>\n",
       "      <td>75576</td>\n",
       "      <td>12</td>\n",
       "      <td>70</td>\n",
       "      <td>Job Fairs</td>\n",
       "      <td>1</td>\n",
       "      <td>25</td>\n",
       "      <td>4</td>\n",
       "      <td>Single</td>\n",
       "      <td>Bachelors</td>\n",
       "      <td>No</td>\n",
       "      <td>25</td>\n",
       "      <td>8.06</td>\n",
       "      <td>1</td>\n",
       "      <td>2011-12-21</td>\n",
       "      <td>NaT</td>\n",
       "      <td>Customer Operations</td>\n",
       "      <td>E5663</td>\n",
       "      <td>2014-12-31</td>\n",
       "      <td>0</td>\n",
       "      <td>0.710</td>\n",
       "      <td>0.78</td>\n",
       "      <td>0.67</td>\n",
       "      <td>0.80</td>\n",
       "      <td>3.05</td>\n",
       "      <td>8.060000</td>\n",
       "      <td>3.027397</td>\n",
       "      <td>51840</td>\n",
       "      <td>1.457870</td>\n",
       "      <td>Above</td>\n",
       "      <td>0.004881</td>\n",
       "      <td>0</td>\n",
       "      <td>0.004881</td>\n",
       "    </tr>\n",
       "  </tbody>\n",
       "</table>\n",
       "</div>"
      ],
      "text/plain": [
       "   emp_id  status  location       level  gender  emp_age         rating  \\\n",
       "0  E10012  Active  New York     Analyst  Female    25.09  Above Average   \n",
       "1  E10025  Active   Chicago     Analyst  Female    25.98     Acceptable   \n",
       "2  E10027  Active   Orlando  Specialist  Female    33.40     Acceptable   \n",
       "3  E10048  Active   Chicago  Specialist    Male    24.55     Acceptable   \n",
       "4  E10060  Active   Orlando     Analyst    Male    31.23     Acceptable   \n",
       "\n",
       "      mgr_rating  mgr_reportees  mgr_age  mgr_tenure  compensation  \\\n",
       "0     Acceptable              9    44.07        3.17         64320   \n",
       "1      Excellent              4    35.99        7.92         48204   \n",
       "2  Above Average              6    35.78        4.38         85812   \n",
       "3     Acceptable             10    26.70        2.87         49536   \n",
       "4     Acceptable             11    34.28       12.95         75576   \n",
       "\n",
       "   percent_hike  hiring_score hiring_source  no_companies_worked  \\\n",
       "0            10            70    Consultant                    1   \n",
       "1             8            70     Job Fairs                    9   \n",
       "2            11            77    Consultant                    3   \n",
       "3             8            71    Job Boards                    5   \n",
       "4            12            70     Job Fairs                    1   \n",
       "\n",
       "   distance_from_home  total_dependents marital_status  education  \\\n",
       "0                  14                 2         Single  Bachelors   \n",
       "1                  21                 2         Single  Bachelors   \n",
       "2                  15                 5         Single  Bachelors   \n",
       "3                   9                 3         Single  Bachelors   \n",
       "4                  25                 4         Single  Bachelors   \n",
       "\n",
       "  promotion_last_2_years  no_leaves_taken  total_experience  \\\n",
       "0                     No                2              6.86   \n",
       "1                     No               10              4.88   \n",
       "2                    Yes               18              8.55   \n",
       "3                    Yes               19              4.76   \n",
       "4                     No               25              8.06   \n",
       "\n",
       "   monthly_overtime_hrs date_of_joining last_working_date  \\\n",
       "0                     1      2011-06-03               NaT   \n",
       "1                     5      2009-09-23               NaT   \n",
       "2                     3      2005-02-11               NaT   \n",
       "3                     8      2011-05-20               NaT   \n",
       "4                     1      2011-12-21               NaT   \n",
       "\n",
       "            department  mgr_id cutoff_date  turnover  mgr_effectiveness  \\\n",
       "0  Customer Operations   E9335  2014-12-31         0              0.730   \n",
       "1  Customer Operations   E6655  2014-12-31         0              0.581   \n",
       "2  Customer Operations  E13942  2014-12-31         0              0.770   \n",
       "3  Customer Operations   E7063  2014-12-31         0              0.240   \n",
       "4  Customer Operations   E5663  2014-12-31         0              0.710   \n",
       "\n",
       "   career_satisfaction  perf_satisfaction  work_satisfaction  age_diff  \\\n",
       "0                 0.73               0.73               0.75     18.98   \n",
       "1                 0.72               0.84               0.85     10.01   \n",
       "2                 0.85               0.80               0.87      2.38   \n",
       "3                 0.42               0.33               0.85      2.15   \n",
       "4                 0.78               0.67               0.80      3.05   \n",
       "\n",
       "   job_hop_index    tenure  median_compensation  compa_ratio compa_level  \\\n",
       "0       6.860000  3.821918                51840     1.240741       Above   \n",
       "1       0.542222  5.271233                51840     0.929861       Below   \n",
       "2       2.850000  9.161644                83496     1.027738       Above   \n",
       "3       0.952000  3.616438                83496     0.593274       Below   \n",
       "4       8.060000  3.027397                51840     1.457870       Above   \n",
       "\n",
       "     x_pred  predicted  x_probability  \n",
       "0  0.000088          0       0.000088  \n",
       "1  0.005668          0       0.005668  \n",
       "2  0.000189          0       0.000189  \n",
       "3  0.410186          0       0.410186  \n",
       "4  0.004881          0       0.004881  "
      ]
     },
     "execution_count": 116,
     "metadata": {},
     "output_type": "execute_result"
    }
   ],
   "source": [
    "emp_final_original.head()"
   ]
  },
  {
   "cell_type": "code",
   "execution_count": 117,
   "metadata": {},
   "outputs": [],
   "source": [
    "emp_hike_range = emp_final_original.copy()\n",
    "emp_hike_range = emp_hike_range[emp_hike_range['level'] == 'Analyst']\n",
    "\n",
    "conditions = [(emp_hike_range['percent_hike'] <= 10),\n",
    "              ((emp_hike_range['percent_hike'] > 10) & (emp_hike_range['percent_hike'] <= 15)),\n",
    "              (emp_hike_range['percent_hike'] > 15)\n",
    "             ]\n",
    "values = ['0 to 10','11 to 15','16 to 20']\n",
    "emp_hike_range['hike_range'] = np.select(conditions, values)"
   ]
  },
  {
   "cell_type": "code",
   "execution_count": 118,
   "metadata": {},
   "outputs": [
    {
     "data": {
      "text/plain": [
       "0 to 10     865\n",
       "11 to 15    700\n",
       "16 to 20     39\n",
       "Name: hike_range, dtype: int64"
      ]
     },
     "execution_count": 118,
     "metadata": {},
     "output_type": "execute_result"
    }
   ],
   "source": [
    "emp_hike_range['hike_range'].value_counts()"
   ]
  },
  {
   "cell_type": "markdown",
   "metadata": {},
   "source": [
    "## 0.4.9 Calculate turnover rate across salary hike range"
   ]
  },
  {
   "cell_type": "code",
   "execution_count": 121,
   "metadata": {},
   "outputs": [
    {
     "data": {
      "text/html": [
       "<div>\n",
       "<style scoped>\n",
       "    .dataframe tbody tr th:only-of-type {\n",
       "        vertical-align: middle;\n",
       "    }\n",
       "\n",
       "    .dataframe tbody tr th {\n",
       "        vertical-align: top;\n",
       "    }\n",
       "\n",
       "    .dataframe thead th {\n",
       "        text-align: right;\n",
       "    }\n",
       "</style>\n",
       "<table border=\"1\" class=\"dataframe\">\n",
       "  <thead>\n",
       "    <tr style=\"text-align: right;\">\n",
       "      <th></th>\n",
       "      <th>hike_range</th>\n",
       "      <th>turnover</th>\n",
       "    </tr>\n",
       "  </thead>\n",
       "  <tbody>\n",
       "    <tr>\n",
       "      <th>0</th>\n",
       "      <td>0 to 10</td>\n",
       "      <td>0.322543</td>\n",
       "    </tr>\n",
       "    <tr>\n",
       "      <th>1</th>\n",
       "      <td>11 to 15</td>\n",
       "      <td>0.092857</td>\n",
       "    </tr>\n",
       "    <tr>\n",
       "      <th>2</th>\n",
       "      <td>16 to 20</td>\n",
       "      <td>0.025641</td>\n",
       "    </tr>\n",
       "  </tbody>\n",
       "</table>\n",
       "</div>"
      ],
      "text/plain": [
       "  hike_range  turnover\n",
       "0    0 to 10  0.322543\n",
       "1   11 to 15  0.092857\n",
       "2   16 to 20  0.025641"
      ]
     },
     "execution_count": 121,
     "metadata": {},
     "output_type": "execute_result"
    }
   ],
   "source": [
    "df_hike = emp_hike_range.copy()\n",
    "df_hike = df_hike.groupby('hike_range')['turnover'].mean().reset_index()\n",
    "df_hike"
   ]
  },
  {
   "cell_type": "code",
   "execution_count": 122,
   "metadata": {},
   "outputs": [
    {
     "data": {
      "application/vnd.plotly.v1+json": {
       "config": {
        "plotlyServerURL": "https://plot.ly"
       },
       "data": [
        {
         "alignmentgroup": "True",
         "hovertemplate": "hike_range=%{x}<br>turnover=%{y}<extra></extra>",
         "legendgroup": "",
         "marker": {
          "color": "#636efa",
          "pattern": {
           "shape": ""
          }
         },
         "name": "",
         "offsetgroup": "",
         "orientation": "v",
         "showlegend": false,
         "textposition": "auto",
         "type": "bar",
         "x": [
          "0 to 10",
          "11 to 15",
          "16 to 20"
         ],
         "xaxis": "x",
         "y": [
          0.3225433526011561,
          0.09285714285714286,
          0.02564102564102564
         ],
         "yaxis": "y"
        }
       ],
       "layout": {
        "barmode": "relative",
        "legend": {
         "tracegroupgap": 0
        },
        "margin": {
         "t": 60
        },
        "template": {
         "data": {
          "bar": [
           {
            "error_x": {
             "color": "#2a3f5f"
            },
            "error_y": {
             "color": "#2a3f5f"
            },
            "marker": {
             "line": {
              "color": "#E5ECF6",
              "width": 0.5
             },
             "pattern": {
              "fillmode": "overlay",
              "size": 10,
              "solidity": 0.2
             }
            },
            "type": "bar"
           }
          ],
          "barpolar": [
           {
            "marker": {
             "line": {
              "color": "#E5ECF6",
              "width": 0.5
             },
             "pattern": {
              "fillmode": "overlay",
              "size": 10,
              "solidity": 0.2
             }
            },
            "type": "barpolar"
           }
          ],
          "carpet": [
           {
            "aaxis": {
             "endlinecolor": "#2a3f5f",
             "gridcolor": "white",
             "linecolor": "white",
             "minorgridcolor": "white",
             "startlinecolor": "#2a3f5f"
            },
            "baxis": {
             "endlinecolor": "#2a3f5f",
             "gridcolor": "white",
             "linecolor": "white",
             "minorgridcolor": "white",
             "startlinecolor": "#2a3f5f"
            },
            "type": "carpet"
           }
          ],
          "choropleth": [
           {
            "colorbar": {
             "outlinewidth": 0,
             "ticks": ""
            },
            "type": "choropleth"
           }
          ],
          "contour": [
           {
            "colorbar": {
             "outlinewidth": 0,
             "ticks": ""
            },
            "colorscale": [
             [
              0,
              "#0d0887"
             ],
             [
              0.1111111111111111,
              "#46039f"
             ],
             [
              0.2222222222222222,
              "#7201a8"
             ],
             [
              0.3333333333333333,
              "#9c179e"
             ],
             [
              0.4444444444444444,
              "#bd3786"
             ],
             [
              0.5555555555555556,
              "#d8576b"
             ],
             [
              0.6666666666666666,
              "#ed7953"
             ],
             [
              0.7777777777777778,
              "#fb9f3a"
             ],
             [
              0.8888888888888888,
              "#fdca26"
             ],
             [
              1,
              "#f0f921"
             ]
            ],
            "type": "contour"
           }
          ],
          "contourcarpet": [
           {
            "colorbar": {
             "outlinewidth": 0,
             "ticks": ""
            },
            "type": "contourcarpet"
           }
          ],
          "heatmap": [
           {
            "colorbar": {
             "outlinewidth": 0,
             "ticks": ""
            },
            "colorscale": [
             [
              0,
              "#0d0887"
             ],
             [
              0.1111111111111111,
              "#46039f"
             ],
             [
              0.2222222222222222,
              "#7201a8"
             ],
             [
              0.3333333333333333,
              "#9c179e"
             ],
             [
              0.4444444444444444,
              "#bd3786"
             ],
             [
              0.5555555555555556,
              "#d8576b"
             ],
             [
              0.6666666666666666,
              "#ed7953"
             ],
             [
              0.7777777777777778,
              "#fb9f3a"
             ],
             [
              0.8888888888888888,
              "#fdca26"
             ],
             [
              1,
              "#f0f921"
             ]
            ],
            "type": "heatmap"
           }
          ],
          "heatmapgl": [
           {
            "colorbar": {
             "outlinewidth": 0,
             "ticks": ""
            },
            "colorscale": [
             [
              0,
              "#0d0887"
             ],
             [
              0.1111111111111111,
              "#46039f"
             ],
             [
              0.2222222222222222,
              "#7201a8"
             ],
             [
              0.3333333333333333,
              "#9c179e"
             ],
             [
              0.4444444444444444,
              "#bd3786"
             ],
             [
              0.5555555555555556,
              "#d8576b"
             ],
             [
              0.6666666666666666,
              "#ed7953"
             ],
             [
              0.7777777777777778,
              "#fb9f3a"
             ],
             [
              0.8888888888888888,
              "#fdca26"
             ],
             [
              1,
              "#f0f921"
             ]
            ],
            "type": "heatmapgl"
           }
          ],
          "histogram": [
           {
            "marker": {
             "pattern": {
              "fillmode": "overlay",
              "size": 10,
              "solidity": 0.2
             }
            },
            "type": "histogram"
           }
          ],
          "histogram2d": [
           {
            "colorbar": {
             "outlinewidth": 0,
             "ticks": ""
            },
            "colorscale": [
             [
              0,
              "#0d0887"
             ],
             [
              0.1111111111111111,
              "#46039f"
             ],
             [
              0.2222222222222222,
              "#7201a8"
             ],
             [
              0.3333333333333333,
              "#9c179e"
             ],
             [
              0.4444444444444444,
              "#bd3786"
             ],
             [
              0.5555555555555556,
              "#d8576b"
             ],
             [
              0.6666666666666666,
              "#ed7953"
             ],
             [
              0.7777777777777778,
              "#fb9f3a"
             ],
             [
              0.8888888888888888,
              "#fdca26"
             ],
             [
              1,
              "#f0f921"
             ]
            ],
            "type": "histogram2d"
           }
          ],
          "histogram2dcontour": [
           {
            "colorbar": {
             "outlinewidth": 0,
             "ticks": ""
            },
            "colorscale": [
             [
              0,
              "#0d0887"
             ],
             [
              0.1111111111111111,
              "#46039f"
             ],
             [
              0.2222222222222222,
              "#7201a8"
             ],
             [
              0.3333333333333333,
              "#9c179e"
             ],
             [
              0.4444444444444444,
              "#bd3786"
             ],
             [
              0.5555555555555556,
              "#d8576b"
             ],
             [
              0.6666666666666666,
              "#ed7953"
             ],
             [
              0.7777777777777778,
              "#fb9f3a"
             ],
             [
              0.8888888888888888,
              "#fdca26"
             ],
             [
              1,
              "#f0f921"
             ]
            ],
            "type": "histogram2dcontour"
           }
          ],
          "mesh3d": [
           {
            "colorbar": {
             "outlinewidth": 0,
             "ticks": ""
            },
            "type": "mesh3d"
           }
          ],
          "parcoords": [
           {
            "line": {
             "colorbar": {
              "outlinewidth": 0,
              "ticks": ""
             }
            },
            "type": "parcoords"
           }
          ],
          "pie": [
           {
            "automargin": true,
            "type": "pie"
           }
          ],
          "scatter": [
           {
            "fillpattern": {
             "fillmode": "overlay",
             "size": 10,
             "solidity": 0.2
            },
            "type": "scatter"
           }
          ],
          "scatter3d": [
           {
            "line": {
             "colorbar": {
              "outlinewidth": 0,
              "ticks": ""
             }
            },
            "marker": {
             "colorbar": {
              "outlinewidth": 0,
              "ticks": ""
             }
            },
            "type": "scatter3d"
           }
          ],
          "scattercarpet": [
           {
            "marker": {
             "colorbar": {
              "outlinewidth": 0,
              "ticks": ""
             }
            },
            "type": "scattercarpet"
           }
          ],
          "scattergeo": [
           {
            "marker": {
             "colorbar": {
              "outlinewidth": 0,
              "ticks": ""
             }
            },
            "type": "scattergeo"
           }
          ],
          "scattergl": [
           {
            "marker": {
             "colorbar": {
              "outlinewidth": 0,
              "ticks": ""
             }
            },
            "type": "scattergl"
           }
          ],
          "scattermapbox": [
           {
            "marker": {
             "colorbar": {
              "outlinewidth": 0,
              "ticks": ""
             }
            },
            "type": "scattermapbox"
           }
          ],
          "scatterpolar": [
           {
            "marker": {
             "colorbar": {
              "outlinewidth": 0,
              "ticks": ""
             }
            },
            "type": "scatterpolar"
           }
          ],
          "scatterpolargl": [
           {
            "marker": {
             "colorbar": {
              "outlinewidth": 0,
              "ticks": ""
             }
            },
            "type": "scatterpolargl"
           }
          ],
          "scatterternary": [
           {
            "marker": {
             "colorbar": {
              "outlinewidth": 0,
              "ticks": ""
             }
            },
            "type": "scatterternary"
           }
          ],
          "surface": [
           {
            "colorbar": {
             "outlinewidth": 0,
             "ticks": ""
            },
            "colorscale": [
             [
              0,
              "#0d0887"
             ],
             [
              0.1111111111111111,
              "#46039f"
             ],
             [
              0.2222222222222222,
              "#7201a8"
             ],
             [
              0.3333333333333333,
              "#9c179e"
             ],
             [
              0.4444444444444444,
              "#bd3786"
             ],
             [
              0.5555555555555556,
              "#d8576b"
             ],
             [
              0.6666666666666666,
              "#ed7953"
             ],
             [
              0.7777777777777778,
              "#fb9f3a"
             ],
             [
              0.8888888888888888,
              "#fdca26"
             ],
             [
              1,
              "#f0f921"
             ]
            ],
            "type": "surface"
           }
          ],
          "table": [
           {
            "cells": {
             "fill": {
              "color": "#EBF0F8"
             },
             "line": {
              "color": "white"
             }
            },
            "header": {
             "fill": {
              "color": "#C8D4E3"
             },
             "line": {
              "color": "white"
             }
            },
            "type": "table"
           }
          ]
         },
         "layout": {
          "annotationdefaults": {
           "arrowcolor": "#2a3f5f",
           "arrowhead": 0,
           "arrowwidth": 1
          },
          "autotypenumbers": "strict",
          "coloraxis": {
           "colorbar": {
            "outlinewidth": 0,
            "ticks": ""
           }
          },
          "colorscale": {
           "diverging": [
            [
             0,
             "#8e0152"
            ],
            [
             0.1,
             "#c51b7d"
            ],
            [
             0.2,
             "#de77ae"
            ],
            [
             0.3,
             "#f1b6da"
            ],
            [
             0.4,
             "#fde0ef"
            ],
            [
             0.5,
             "#f7f7f7"
            ],
            [
             0.6,
             "#e6f5d0"
            ],
            [
             0.7,
             "#b8e186"
            ],
            [
             0.8,
             "#7fbc41"
            ],
            [
             0.9,
             "#4d9221"
            ],
            [
             1,
             "#276419"
            ]
           ],
           "sequential": [
            [
             0,
             "#0d0887"
            ],
            [
             0.1111111111111111,
             "#46039f"
            ],
            [
             0.2222222222222222,
             "#7201a8"
            ],
            [
             0.3333333333333333,
             "#9c179e"
            ],
            [
             0.4444444444444444,
             "#bd3786"
            ],
            [
             0.5555555555555556,
             "#d8576b"
            ],
            [
             0.6666666666666666,
             "#ed7953"
            ],
            [
             0.7777777777777778,
             "#fb9f3a"
            ],
            [
             0.8888888888888888,
             "#fdca26"
            ],
            [
             1,
             "#f0f921"
            ]
           ],
           "sequentialminus": [
            [
             0,
             "#0d0887"
            ],
            [
             0.1111111111111111,
             "#46039f"
            ],
            [
             0.2222222222222222,
             "#7201a8"
            ],
            [
             0.3333333333333333,
             "#9c179e"
            ],
            [
             0.4444444444444444,
             "#bd3786"
            ],
            [
             0.5555555555555556,
             "#d8576b"
            ],
            [
             0.6666666666666666,
             "#ed7953"
            ],
            [
             0.7777777777777778,
             "#fb9f3a"
            ],
            [
             0.8888888888888888,
             "#fdca26"
            ],
            [
             1,
             "#f0f921"
            ]
           ]
          },
          "colorway": [
           "#636efa",
           "#EF553B",
           "#00cc96",
           "#ab63fa",
           "#FFA15A",
           "#19d3f3",
           "#FF6692",
           "#B6E880",
           "#FF97FF",
           "#FECB52"
          ],
          "font": {
           "color": "#2a3f5f"
          },
          "geo": {
           "bgcolor": "white",
           "lakecolor": "white",
           "landcolor": "#E5ECF6",
           "showlakes": true,
           "showland": true,
           "subunitcolor": "white"
          },
          "hoverlabel": {
           "align": "left"
          },
          "hovermode": "closest",
          "mapbox": {
           "style": "light"
          },
          "paper_bgcolor": "white",
          "plot_bgcolor": "#E5ECF6",
          "polar": {
           "angularaxis": {
            "gridcolor": "white",
            "linecolor": "white",
            "ticks": ""
           },
           "bgcolor": "#E5ECF6",
           "radialaxis": {
            "gridcolor": "white",
            "linecolor": "white",
            "ticks": ""
           }
          },
          "scene": {
           "xaxis": {
            "backgroundcolor": "#E5ECF6",
            "gridcolor": "white",
            "gridwidth": 2,
            "linecolor": "white",
            "showbackground": true,
            "ticks": "",
            "zerolinecolor": "white"
           },
           "yaxis": {
            "backgroundcolor": "#E5ECF6",
            "gridcolor": "white",
            "gridwidth": 2,
            "linecolor": "white",
            "showbackground": true,
            "ticks": "",
            "zerolinecolor": "white"
           },
           "zaxis": {
            "backgroundcolor": "#E5ECF6",
            "gridcolor": "white",
            "gridwidth": 2,
            "linecolor": "white",
            "showbackground": true,
            "ticks": "",
            "zerolinecolor": "white"
           }
          },
          "shapedefaults": {
           "line": {
            "color": "#2a3f5f"
           }
          },
          "ternary": {
           "aaxis": {
            "gridcolor": "white",
            "linecolor": "white",
            "ticks": ""
           },
           "baxis": {
            "gridcolor": "white",
            "linecolor": "white",
            "ticks": ""
           },
           "bgcolor": "#E5ECF6",
           "caxis": {
            "gridcolor": "white",
            "linecolor": "white",
            "ticks": ""
           }
          },
          "title": {
           "x": 0.05
          },
          "xaxis": {
           "automargin": true,
           "gridcolor": "white",
           "linecolor": "white",
           "ticks": "",
           "title": {
            "standoff": 15
           },
           "zerolinecolor": "white",
           "zerolinewidth": 2
          },
          "yaxis": {
           "automargin": true,
           "gridcolor": "white",
           "linecolor": "white",
           "ticks": "",
           "title": {
            "standoff": 15
           },
           "zerolinecolor": "white",
           "zerolinewidth": 2
          }
         }
        },
        "xaxis": {
         "anchor": "y",
         "domain": [
          0,
          1
         ],
         "title": {
          "text": "hike_range"
         }
        },
        "yaxis": {
         "anchor": "x",
         "domain": [
          0,
          1
         ],
         "title": {
          "text": "turnover"
         }
        }
       }
      }
     },
     "metadata": {},
     "output_type": "display_data"
    }
   ],
   "source": [
    "fig = px.bar(df_hike, x='hike_range', y='turnover')\n",
    "fig.show()"
   ]
  },
  {
   "cell_type": "markdown",
   "metadata": {},
   "source": [
    "Looks like the average turnover rate for employees in the hike range 0 to 10 is 23% more compared to the employees in 11 to 15.\n",
    "\n",
    "## 0.4.10 Calculate ROI"
   ]
  },
  {
   "cell_type": "code",
   "execution_count": 125,
   "metadata": {},
   "outputs": [
    {
     "data": {
      "text/plain": [
       "(54874.88528678304, 40000)"
      ]
     },
     "execution_count": 125,
     "metadata": {},
     "output_type": "execute_result"
    }
   ],
   "source": [
    "turnover_cost = 40000\n",
    "median_salary_analyst = emp_hike_range['compensation'].mean()\n",
    "median_salary_analyst, turnover_cost"
   ]
  },
  {
   "cell_type": "code",
   "execution_count": 126,
   "metadata": {},
   "outputs": [
    {
     "name": "stdout",
     "output_type": "stream",
     "text": [
      "The return on investment is 247.83650897718869 %\n"
     ]
    }
   ],
   "source": [
    "# Compute extra cost\n",
    "extra_cost = median_salary_analyst * (0.15 - 0.10)\n",
    "# Compute savings\n",
    "savings = turnover_cost * (0.32 - 0.15)\n",
    "# Calculate ROI\n",
    "ROI = (savings / extra_cost) * 100\n",
    "\n",
    "print('The return on investment is {} %'.format(ROI))"
   ]
  },
  {
   "cell_type": "code",
   "execution_count": null,
   "metadata": {},
   "outputs": [],
   "source": [
    "print('ok_')"
   ]
  }
 ],
 "metadata": {
  "kernelspec": {
   "display_name": "Python 3.11.0 64-bit",
   "language": "python",
   "name": "python3"
  },
  "language_info": {
   "codemirror_mode": {
    "name": "ipython",
    "version": 3
   },
   "file_extension": ".py",
   "mimetype": "text/x-python",
   "name": "python",
   "nbconvert_exporter": "python",
   "pygments_lexer": "ipython3",
   "version": "3.11.0"
  },
  "vscode": {
   "interpreter": {
    "hash": "5238573367df39f7286bb46f9ff5f08f63a01a80960060ce41e3c79b190280fa"
   }
  }
 },
 "nbformat": 4,
 "nbformat_minor": 2
}
